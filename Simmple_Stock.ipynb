{
  "cells": [
    {
      "cell_type": "markdown",
      "metadata": {
        "colab_type": "text",
        "id": "view-in-github"
      },
      "source": [
        "<a href=\"https://colab.research.google.com/github/hsym-uec/myWeb_github/blob/main/Simmple_Stock.ipynb\" target=\"_parent\"><img src=\"https://colab.research.google.com/assets/colab-badge.svg\" alt=\"Open In Colab\"/></a>"
      ]
    },
    {
      "attachments": {},
      "cell_type": "markdown",
      "metadata": {},
      "source": [
        "2023-04-19 Rakutenの株価変動を出力するテストをしました"
      ]
    },
    {
      "cell_type": "code",
      "execution_count": 6,
      "metadata": {
        "id": "iu7dBOESS_HT"
      },
      "outputs": [],
      "source": [
        "# Rakuten Stock data from Stooq.com \n",
        "# reference https://seanmemo.com/234/\n",
        "\n",
        "from pandas_datareader import data\n",
        "start = '2023-04-01'\n",
        "end = '2023-04-10'\n",
        "df = data.DataReader('4755.JP', 'stooq', start, end)\n"
      ]
    },
    {
      "cell_type": "code",
      "execution_count": 7,
      "metadata": {
        "colab": {
          "base_uri": "https://localhost:8080/",
          "height": 269
        },
        "id": "X1ZMmhe8VDaN",
        "outputId": "a1e65cdb-d5aa-4fbc-fc4d-d1b9db6aaafa"
      },
      "outputs": [
        {
          "data": {
            "text/html": [
              "<div>\n",
              "<style scoped>\n",
              "    .dataframe tbody tr th:only-of-type {\n",
              "        vertical-align: middle;\n",
              "    }\n",
              "\n",
              "    .dataframe tbody tr th {\n",
              "        vertical-align: top;\n",
              "    }\n",
              "\n",
              "    .dataframe thead th {\n",
              "        text-align: right;\n",
              "    }\n",
              "</style>\n",
              "<table border=\"1\" class=\"dataframe\">\n",
              "  <thead>\n",
              "    <tr style=\"text-align: right;\">\n",
              "      <th></th>\n",
              "      <th>Open</th>\n",
              "      <th>High</th>\n",
              "      <th>Low</th>\n",
              "      <th>Close</th>\n",
              "      <th>Volume</th>\n",
              "    </tr>\n",
              "    <tr>\n",
              "      <th>Date</th>\n",
              "      <th></th>\n",
              "      <th></th>\n",
              "      <th></th>\n",
              "      <th></th>\n",
              "      <th></th>\n",
              "    </tr>\n",
              "  </thead>\n",
              "  <tbody>\n",
              "    <tr>\n",
              "      <th>2023-04-10</th>\n",
              "      <td>625</td>\n",
              "      <td>640</td>\n",
              "      <td>623</td>\n",
              "      <td>638</td>\n",
              "      <td>9130200</td>\n",
              "    </tr>\n",
              "    <tr>\n",
              "      <th>2023-04-07</th>\n",
              "      <td>625</td>\n",
              "      <td>629</td>\n",
              "      <td>622</td>\n",
              "      <td>623</td>\n",
              "      <td>5941200</td>\n",
              "    </tr>\n",
              "    <tr>\n",
              "      <th>2023-04-06</th>\n",
              "      <td>615</td>\n",
              "      <td>622</td>\n",
              "      <td>608</td>\n",
              "      <td>621</td>\n",
              "      <td>12566800</td>\n",
              "    </tr>\n",
              "    <tr>\n",
              "      <th>2023-04-05</th>\n",
              "      <td>619</td>\n",
              "      <td>629</td>\n",
              "      <td>619</td>\n",
              "      <td>625</td>\n",
              "      <td>8684200</td>\n",
              "    </tr>\n",
              "    <tr>\n",
              "      <th>2023-04-04</th>\n",
              "      <td>626</td>\n",
              "      <td>628</td>\n",
              "      <td>617</td>\n",
              "      <td>619</td>\n",
              "      <td>9108600</td>\n",
              "    </tr>\n",
              "    <tr>\n",
              "      <th>2023-04-03</th>\n",
              "      <td>623</td>\n",
              "      <td>634</td>\n",
              "      <td>619</td>\n",
              "      <td>629</td>\n",
              "      <td>8633200</td>\n",
              "    </tr>\n",
              "  </tbody>\n",
              "</table>\n",
              "</div>"
            ],
            "text/plain": [
              "            Open  High  Low  Close    Volume\n",
              "Date                                        \n",
              "2023-04-10   625   640  623    638   9130200\n",
              "2023-04-07   625   629  622    623   5941200\n",
              "2023-04-06   615   622  608    621  12566800\n",
              "2023-04-05   619   629  619    625   8684200\n",
              "2023-04-04   626   628  617    619   9108600\n",
              "2023-04-03   623   634  619    629   8633200"
            ]
          },
          "execution_count": 7,
          "metadata": {},
          "output_type": "execute_result"
        }
      ],
      "source": [
        "df"
      ]
    },
    {
      "cell_type": "markdown",
      "metadata": {},
      "source": []
    }
  ],
  "metadata": {
    "colab": {
      "authorship_tag": "ABX9TyPjQvpzdTrQo21gWnU3EF3c",
      "include_colab_link": true,
      "provenance": []
    },
    "kernelspec": {
      "display_name": "Python 3",
      "name": "python3"
    },
    "language_info": {
      "codemirror_mode": {
        "name": "ipython",
        "version": 3
      },
      "file_extension": ".py",
      "mimetype": "text/x-python",
      "name": "python",
      "nbconvert_exporter": "python",
      "pygments_lexer": "ipython3",
      "version": "3.9.6"
    }
  },
  "nbformat": 4,
  "nbformat_minor": 0
}
